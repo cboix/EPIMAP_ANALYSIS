{
 "cells": [
  {
   "cell_type": "markdown",
   "metadata": {},
   "source": [
    "# Enhancer-gene linking with correlation + modules"
   ]
  },
  {
   "cell_type": "code",
   "execution_count": 1,
   "metadata": {},
   "outputs": [
    {
     "name": "stdout",
     "output_type": "stream",
     "text": [
      "/EPIMAP_ANALYSIS/bin\n",
      "[STATUS] Loaded config correctly.\n"
     ]
    }
   ],
   "source": [
    "%matplotlib inline\n",
    "%load_ext autoreload\n",
    "%autoreload 2\n",
    "\n",
    "# System:\n",
    "import os\n",
    "import re\n",
    "import csv\n",
    "import gzip\n",
    "import time\n",
    "import datetime\n",
    "import sys\n",
    "import gc\n",
    "import six.moves.cPickle as pickle\n",
    "from tqdm import tqdm, tqdm_notebook\n",
    "from IPython import get_ipython\n",
    "ipython_shell = get_ipython()\n",
    "\n",
    "# Math \n",
    "import scipy.stats as st\n",
    "import numpy as np\n",
    "from scipy.cluster import hierarchy as sch\n",
    "\n",
    "# Plotting:\n",
    "import matplotlib.pyplot as plt\n",
    "import matplotlib as mpl\n",
    "from matplotlib import gridspec, ticker, markers\n",
    "from matplotlib.backends.backend_pdf import PdfPages\n",
    "import seaborn as sns\n",
    "from IPython import display\n",
    "from polo import optimal_leaf_ordering\n",
    "from scipy import sparse\n",
    "\n",
    "# Local paths and functions:\n",
    "import auxfunc_masterlist as AUX\n",
    "import load_linking_data as LLD\n",
    "import parse_config\n",
    "\n",
    "# For random data:\n",
    "rng = np.random\n",
    "\n",
    "# For plot points\n",
    "from scipy.sparse import coo_matrix, csr_matrix\n",
    "import pandas as pd, numpy as np\n",
    "from collections import OrderedDict as odict\n",
    "\n",
    "# Logic:\n",
    "import pyranges as pr\n",
    "\n",
    "# Style\n",
    "sns.set(style=\"ticks\", color_codes=True)"
   ]
  },
  {
   "cell_type": "code",
   "execution_count": 2,
   "metadata": {},
   "outputs": [
    {
     "data": {
      "text/html": [
       "<script>\n",
       "code_show=true; \n",
       "function code_toggle() {\n",
       " if (code_show){\n",
       " $('div.input').hide();\n",
       " } else {\n",
       " $('div.input').show();\n",
       " }\n",
       " code_show = !code_show\n",
       "} \n",
       "$( document ).ready(code_toggle);\n",
       "</script>\n",
       "The raw code for this IPython notebook is by default hidden for easier reading.\n",
       "To toggle on/off the raw code, click <a href=\"javascript:code_toggle()\">here</a>."
      ],
      "text/plain": [
       "<IPython.core.display.HTML object>"
      ]
     },
     "execution_count": 2,
     "metadata": {},
     "output_type": "execute_result"
    }
   ],
   "source": [
    "from IPython.display import HTML\n",
    "HTML('''<script>\n",
    "code_show=true; \n",
    "function code_toggle() {\n",
    " if (code_show){\n",
    " $('div.input').hide();\n",
    " } else {\n",
    " $('div.input').show();\n",
    " }\n",
    " code_show = !code_show\n",
    "} \n",
    "$( document ).ready(code_toggle);\n",
    "</script>\n",
    "The raw code for this IPython notebook is by default hidden for easier reading.\n",
    "To toggle on/off the raw code, click <a href=\"javascript:code_toggle()\">here</a>.''')"
   ]
  },
  {
   "cell_type": "markdown",
   "metadata": {},
   "source": [
    "## Load data for linking"
   ]
  },
  {
   "cell_type": "code",
   "execution_count": 3,
   "metadata": {},
   "outputs": [],
   "source": [
    "loader = LLD.load_linking_data()"
   ]
  },
  {
   "cell_type": "code",
   "execution_count": 4,
   "metadata": {},
   "outputs": [
    {
     "name": "stdout",
     "output_type": "stream",
     "text": [
      "[STATUS] Loading matrices x5\n"
     ]
    }
   ],
   "source": [
    "loader.load_matrices()"
   ]
  },
  {
   "cell_type": "code",
   "execution_count": 5,
   "metadata": {},
   "outputs": [
    {
     "name": "stdout",
     "output_type": "stream",
     "text": [
      "[STATUS] Loading annotations/metadata\n",
      "[STATUS] Reordering coordinates list to match matrices\n",
      "[STATUS] Loading gene annotations\n",
      "[STATUS] Making dataframe for testing E-P pairs\n",
      "[STATUS] Created links testset with 33,693,827 possible links in +/- 1MB\n"
     ]
    }
   ],
   "source": [
    "loader.load_annotations()"
   ]
  },
  {
   "cell_type": "code",
   "execution_count": 6,
   "metadata": {},
   "outputs": [
    {
     "data": {
      "text/plain": [
       "Text(0, 0.5, 'Number of enhancers')"
      ]
     },
     "execution_count": 6,
     "metadata": {},
     "output_type": "execute_result"
    },
    {
     "data": {
      "image/png": "[encoded data removed]",
      "text/plain": [
       "<Figure size 1080x288 with 2 Axes>"
      ]
     },
     "metadata": {
      "needs_background": "light"
     },
     "output_type": "display_data"
    }
   ],
   "source": [
    "# NOTE: Visualize how many interactions we are testing:\n",
    "plt.figure(figsize=(15,4))\n",
    "gs = gridspec.GridSpec(ncols=2, nrows=1)\n",
    "plt.subplot(gs[0])\n",
    "u, c = np.unique(loader.pairsdf.cls_promind, return_counts=True)\n",
    "h = plt.hist(c, 30, color='grey')\n",
    "plt.xlabel('Number of enhancers within +/-1Mb of promoter')\n",
    "plt.ylabel('Number of promoters')\n",
    "\n",
    "plt.subplot(gs[1])\n",
    "u, c = np.unique(loader.pairsdf.cls_enhind, return_counts=True)\n",
    "h = plt.hist(c, 30, color='grey')\n",
    "plt.xlabel('Number of promoters within +/-1Mb of enhancer')\n",
    "plt.ylabel('Number of enhancers')"
   ]
  },
  {
   "cell_type": "code",
   "execution_count": 7,
   "metadata": {},
   "outputs": [
    {
     "name": "stdout",
     "output_type": "stream",
     "text": [
      "[STATUS] Trying to load qtls from cp file\n",
      "[STATUS] Assigning qtls to enhancers\n",
      "[STATUS] Unique promoter - enhancer reduced QTLs to 1,555,029 QTL links\n",
      "[STATUS] Merge with test links creates final dataset: 1,555,009 QTL links in 33,693,827 total possible links\n"
     ]
    }
   ],
   "source": [
    "loader.load_GTEx_eQTLs()"
   ]
  },
  {
   "cell_type": "code",
   "execution_count": 8,
   "metadata": {},
   "outputs": [
    {
     "name": "stdout",
     "output_type": "stream",
     "text": [
      "[STATUS] Unique promoter - enhancer PCHiC interactions: 445,957\n",
      "[STATUS] Merge with test links: 398,405 PCHiC links in 33,693,827 total possible links\n"
     ]
    }
   ],
   "source": [
    "loader.load_pchic()"
   ]
  },
  {
   "cell_type": "code",
   "execution_count": 9,
   "metadata": {},
   "outputs": [
    {
     "name": "stdout",
     "output_type": "stream",
     "text": [
      "[STATUS] Loading Roadmap links\n",
      "[STATUS] Start with: 1,008,646 links\n",
      "[STATUS] After merge, 606,607 links\n",
      "[STATUS] Merge with test links: 606,598 Roadmap links in 33,697,479 total possible links\n"
     ]
    }
   ],
   "source": [
    "loader.load_rmlinks()"
   ]
  },
  {
   "cell_type": "code",
   "execution_count": 10,
   "metadata": {},
   "outputs": [
    {
     "data": {
      "text/html": [
       "<div>\n",
       "<style scoped>\n",
       "    .dataframe tbody tr th:only-of-type {\n",
       "        vertical-align: middle;\n",
       "    }\n",
       "\n",
       "    .dataframe tbody tr th {\n",
       "        vertical-align: top;\n",
       "    }\n",
       "\n",
       "    .dataframe thead th {\n",
       "        text-align: right;\n",
       "    }\n",
       "</style>\n",
       "<table border=\"1\" class=\"dataframe\">\n",
       "  <thead>\n",
       "    <tr style=\"text-align: right;\">\n",
       "      <th></th>\n",
       "      <th>cls_promind</th>\n",
       "      <th>cls_enhind</th>\n",
       "      <th>isqtl</th>\n",
       "      <th>ispc</th>\n",
       "      <th>isrm</th>\n",
       "    </tr>\n",
       "  </thead>\n",
       "  <tbody>\n",
       "    <tr>\n",
       "      <th>0</th>\n",
       "      <td>605</td>\n",
       "      <td>538</td>\n",
       "      <td>1.0</td>\n",
       "      <td>0.0</td>\n",
       "      <td>0.0</td>\n",
       "    </tr>\n",
       "    <tr>\n",
       "      <th>1</th>\n",
       "      <td>2588</td>\n",
       "      <td>538</td>\n",
       "      <td>1.0</td>\n",
       "      <td>0.0</td>\n",
       "      <td>0.0</td>\n",
       "    </tr>\n",
       "    <tr>\n",
       "      <th>2</th>\n",
       "      <td>3688</td>\n",
       "      <td>538</td>\n",
       "      <td>1.0</td>\n",
       "      <td>0.0</td>\n",
       "      <td>0.0</td>\n",
       "    </tr>\n",
       "    <tr>\n",
       "      <th>3</th>\n",
       "      <td>2275</td>\n",
       "      <td>538</td>\n",
       "      <td>0.0</td>\n",
       "      <td>0.0</td>\n",
       "      <td>0.0</td>\n",
       "    </tr>\n",
       "    <tr>\n",
       "      <th>4</th>\n",
       "      <td>2274</td>\n",
       "      <td>538</td>\n",
       "      <td>0.0</td>\n",
       "      <td>0.0</td>\n",
       "      <td>0.0</td>\n",
       "    </tr>\n",
       "  </tbody>\n",
       "</table>\n",
       "</div>"
      ],
      "text/plain": [
       "   cls_promind  cls_enhind  isqtl  ispc  isrm\n",
       "0          605         538    1.0   0.0   0.0\n",
       "1         2588         538    1.0   0.0   0.0\n",
       "2         3688         538    1.0   0.0   0.0\n",
       "3         2275         538    0.0   0.0   0.0\n",
       "4         2274         538    0.0   0.0   0.0"
      ]
     },
     "execution_count": 10,
     "metadata": {},
     "output_type": "execute_result"
    }
   ],
   "source": [
    "loader.testdf.head()"
   ]
  },
  {
   "cell_type": "code",
   "execution_count": 11,
   "metadata": {},
   "outputs": [
    {
     "name": "stdout",
     "output_type": "stream",
     "text": [
      "21.65\n",
      "84.57\n"
     ]
    }
   ],
   "source": [
    "print(round(len(loader.testdf) / np.sum(loader.testdf.isqtl), 2))\n",
    "print(round(len(loader.testdf) / np.sum(loader.testdf.ispc), 2))"
   ]
  },
  {
   "cell_type": "code",
   "execution_count": 12,
   "metadata": {},
   "outputs": [
    {
     "name": "stdout",
     "output_type": "stream",
     "text": [
      "Unique ENH: 1993405\n",
      "Unique PROM: 17940\n"
     ]
    }
   ],
   "source": [
    "print('Unique ENH:', len(pd.unique(loader.testdf.cls_enhind)))\n",
    "print('Unique PROM:', len(pd.unique(loader.testdf.cls_promind)))"
   ]
  },
  {
   "cell_type": "code",
   "execution_count": 13,
   "metadata": {},
   "outputs": [
    {
     "data": {
      "image/png": "[encoded data removed]",
      "text/plain": [
       "<Figure size 432x288 with 1 Axes>"
      ]
     },
     "metadata": {
      "needs_background": "light"
     },
     "output_type": "display_data"
    }
   ],
   "source": [
    "ss = loader.qtldf.slope\n",
    "ss = ss[ss < 4]\n",
    "ss = ss[ss > -4]\n",
    "h = plt.hist(ss, 50)"
   ]
  },
  {
   "cell_type": "code",
   "execution_count": null,
   "metadata": {},
   "outputs": [],
   "source": []
  },
  {
   "cell_type": "code",
   "execution_count": 14,
   "metadata": {},
   "outputs": [],
   "source": [
    "# For links:\n",
    "def print_pr(oracle, pred):\n",
    "    if hasattr(oracle, 'name') and hasattr(pred, 'name'):\n",
    "        print(\"Oracle: \" + oracle.name + \" vs. pred: \" + pred.name)\n",
    "    RECALL = np.sum(pred * oracle) / np.sum(oracle)\n",
    "    PRECISION = np.sum(pred * oracle) / np.sum(pred)\n",
    "    print(\"RECALL:\", round(RECALL * 100, 2))\n",
    "    print(\"PRECISION:\", round(PRECISION * 100, 2))\n",
    "    print(\"ORACLE:\", \"{:,}\".format(int(np.sum(oracle,0))))\n",
    "    print(\"PRED:\", \"{:,}\".format(int(np.sum(pred,0))))\n",
    "    print(\"---------------\")"
   ]
  },
  {
   "cell_type": "code",
   "execution_count": 15,
   "metadata": {},
   "outputs": [
    {
     "name": "stdout",
     "output_type": "stream",
     "text": [
      "Oracle: isqtl vs. pred: ispc\n",
      "RECALL: 2.29\n",
      "PRECISION: 8.96\n",
      "ORACLE: 1,556,284\n",
      "PRED: 398,479\n",
      "---------------\n",
      "Oracle: isqtl vs. pred: isrm\n",
      "RECALL: 10.02\n",
      "PRECISION: 25.7\n",
      "ORACLE: 1,556,284\n",
      "PRED: 606,598\n",
      "---------------\n",
      "Oracle: ispc vs. pred: isrm\n",
      "RECALL: 4.07\n",
      "PRECISION: 2.67\n",
      "ORACLE: 398,479\n",
      "PRED: 606,598\n",
      "---------------\n"
     ]
    }
   ],
   "source": [
    "print_pr(loader.testdf.isqtl, loader.testdf.ispc)\n",
    "print_pr(loader.testdf.isqtl, loader.testdf.isrm)\n",
    "print_pr(loader.testdf.ispc, loader.testdf.isrm)"
   ]
  },
  {
   "cell_type": "markdown",
   "metadata": {},
   "source": [
    "### [M1] Baseline: link each enhancer to its nearest gene:"
   ]
  },
  {
   "cell_type": "code",
   "execution_count": 16,
   "metadata": {
    "scrolled": true
   },
   "outputs": [
    {
     "name": "stdout",
     "output_type": "stream",
     "text": [
      "Oracle: isqtl vs. pred: isnearest\n",
      "RECALL: 24.23\n",
      "PRECISION: 18.9\n",
      "ORACLE: 1,556,284\n",
      "PRED: 1,995,402\n",
      "---------------\n",
      "Oracle: ispc vs. pred: isnearest\n",
      "RECALL: 9.77\n",
      "PRECISION: 1.95\n",
      "ORACLE: 398,479\n",
      "PRED: 1,995,402\n",
      "---------------\n",
      "Oracle: isrm vs. pred: isnearest\n",
      "RECALL: 49.73\n",
      "PRECISION: 15.12\n",
      "ORACLE: 606,598\n",
      "PRED: 1,995,402\n",
      "---------------\n"
     ]
    }
   ],
   "source": [
    "# Merge midpts:\n",
    "loader.midmap.columns = ['cls_promind','mid_prom']\n",
    "loader.testdf = loader.testdf.merge(loader.midmap)\n",
    "loader.midmap.columns = ['cls_enhind','mid_enh']\n",
    "loader.testdf = loader.testdf.merge(loader.midmap)\n",
    "loader.testdf.head()\n",
    "\n",
    "# Get distance for each and select by enhancer:\n",
    "loader.testdf['dist'] = np.abs(np.diff(loader.testdf.loc[:,['mid_prom','mid_enh']], axis=1))\n",
    "emindf = pd.DataFrame(loader.testdf.groupby('cls_enhind')['dist'].min())\n",
    "emindf.reset_index(level=0, inplace=True)\n",
    "emindf['isnearest'] = 1\n",
    "loader.testdf = loader.testdf.merge(emindf, how='left')\n",
    "loader.testdf.fillna(0, inplace=True)\n",
    "print_pr(loader.testdf.isqtl, loader.testdf.isnearest)\n",
    "print_pr(loader.testdf.ispc, loader.testdf.isnearest)\n",
    "print_pr(loader.testdf.isrm, loader.testdf.isnearest)"
   ]
  },
  {
   "cell_type": "markdown",
   "metadata": {},
   "source": [
    "### [M1b] Baseline: link each promoter to its nearest enhancer:"
   ]
  },
  {
   "cell_type": "code",
   "execution_count": 17,
   "metadata": {},
   "outputs": [
    {
     "name": "stdout",
     "output_type": "stream",
     "text": [
      "Oracle: isqtl vs. pred: isPnearest\n",
      "RECALL: 0.38\n",
      "PRECISION: 32.77\n",
      "ORACLE: 1,556,284\n",
      "PRED: 18,043\n",
      "---------------\n",
      "Oracle: ispc vs. pred: isPnearest\n",
      "RECALL: 0.0\n",
      "PRECISION: 0.1\n",
      "ORACLE: 398,479\n",
      "PRED: 18,043\n",
      "---------------\n",
      "Oracle: isrm vs. pred: isPnearest\n",
      "RECALL: 1.25\n",
      "PRECISION: 42.15\n",
      "ORACLE: 606,598\n",
      "PRED: 18,043\n",
      "---------------\n"
     ]
    }
   ],
   "source": [
    "emindf = pd.DataFrame(loader.testdf.groupby('cls_promind')['dist'].min())\n",
    "emindf.reset_index(level=0, inplace=True)\n",
    "emindf['isPnearest'] = 1\n",
    "loader.testdf = loader.testdf.merge(emindf, how='left')\n",
    "loader.testdf.fillna(0, inplace=True)\n",
    "print_pr(loader.testdf.isqtl, loader.testdf.isPnearest)\n",
    "print_pr(loader.testdf.ispc, loader.testdf.isPnearest)\n",
    "print_pr(loader.testdf.isrm, loader.testdf.isPnearest)"
   ]
  },
  {
   "cell_type": "markdown",
   "metadata": {},
   "source": [
    "### [M2] Modules: link each enhancer to its nearest gene within module match:\n",
    "- Alternate - all modules within corr"
   ]
  },
  {
   "cell_type": "code",
   "execution_count": 18,
   "metadata": {},
   "outputs": [],
   "source": [
    "# NOTE: Big issue is that not all promoters are annotated with a module!\n",
    "loader.load_cluster_annotations()\n",
    "loader.match_clusters()"
   ]
  },
  {
   "cell_type": "code",
   "execution_count": 19,
   "metadata": {},
   "outputs": [
    {
     "data": {
      "text/html": [
       "<div>\n",
       "<style scoped>\n",
       "    .dataframe tbody tr th:only-of-type {\n",
       "        vertical-align: middle;\n",
       "    }\n",
       "\n",
       "    .dataframe tbody tr th {\n",
       "        vertical-align: top;\n",
       "    }\n",
       "\n",
       "    .dataframe thead th {\n",
       "        text-align: right;\n",
       "    }\n",
       "</style>\n",
       "<table border=\"1\" class=\"dataframe\">\n",
       "  <thead>\n",
       "    <tr style=\"text-align: right;\">\n",
       "      <th></th>\n",
       "      <th>cls_promind</th>\n",
       "      <th>cls_enhind</th>\n",
       "      <th>isqtl</th>\n",
       "      <th>ispc</th>\n",
       "      <th>isrm</th>\n",
       "      <th>mid_prom</th>\n",
       "      <th>mid_enh</th>\n",
       "      <th>dist</th>\n",
       "      <th>isnearest</th>\n",
       "      <th>isPnearest</th>\n",
       "      <th>id_enh</th>\n",
       "      <th>id_prom</th>\n",
       "      <th>mod_sim</th>\n",
       "    </tr>\n",
       "  </thead>\n",
       "  <tbody>\n",
       "    <tr>\n",
       "      <th>0</th>\n",
       "      <td>605</td>\n",
       "      <td>538</td>\n",
       "      <td>1.0</td>\n",
       "      <td>0.0</td>\n",
       "      <td>0.0</td>\n",
       "      <td>714130.0</td>\n",
       "      <td>713343.5</td>\n",
       "      <td>786.5</td>\n",
       "      <td>1.0</td>\n",
       "      <td>1.0</td>\n",
       "      <td>247</td>\n",
       "      <td>15</td>\n",
       "      <td>0.013301</td>\n",
       "    </tr>\n",
       "    <tr>\n",
       "      <th>1</th>\n",
       "      <td>605</td>\n",
       "      <td>1071</td>\n",
       "      <td>0.0</td>\n",
       "      <td>0.0</td>\n",
       "      <td>0.0</td>\n",
       "      <td>714130.0</td>\n",
       "      <td>1353460.0</td>\n",
       "      <td>639330.0</td>\n",
       "      <td>0.0</td>\n",
       "      <td>0.0</td>\n",
       "      <td>247</td>\n",
       "      <td>15</td>\n",
       "      <td>0.013301</td>\n",
       "    </tr>\n",
       "    <tr>\n",
       "      <th>2</th>\n",
       "      <td>605</td>\n",
       "      <td>1072</td>\n",
       "      <td>0.0</td>\n",
       "      <td>0.0</td>\n",
       "      <td>0.0</td>\n",
       "      <td>714130.0</td>\n",
       "      <td>1353613.0</td>\n",
       "      <td>639483.0</td>\n",
       "      <td>0.0</td>\n",
       "      <td>0.0</td>\n",
       "      <td>247</td>\n",
       "      <td>15</td>\n",
       "      <td>0.013301</td>\n",
       "    </tr>\n",
       "    <tr>\n",
       "      <th>3</th>\n",
       "      <td>605</td>\n",
       "      <td>1097</td>\n",
       "      <td>0.0</td>\n",
       "      <td>0.0</td>\n",
       "      <td>0.0</td>\n",
       "      <td>714130.0</td>\n",
       "      <td>1359380.0</td>\n",
       "      <td>645250.0</td>\n",
       "      <td>0.0</td>\n",
       "      <td>0.0</td>\n",
       "      <td>247</td>\n",
       "      <td>15</td>\n",
       "      <td>0.013301</td>\n",
       "    </tr>\n",
       "    <tr>\n",
       "      <th>4</th>\n",
       "      <td>605</td>\n",
       "      <td>1409</td>\n",
       "      <td>0.0</td>\n",
       "      <td>0.0</td>\n",
       "      <td>0.0</td>\n",
       "      <td>714130.0</td>\n",
       "      <td>1519150.0</td>\n",
       "      <td>805020.0</td>\n",
       "      <td>0.0</td>\n",
       "      <td>0.0</td>\n",
       "      <td>247</td>\n",
       "      <td>15</td>\n",
       "      <td>0.013301</td>\n",
       "    </tr>\n",
       "  </tbody>\n",
       "</table>\n",
       "</div>"
      ],
      "text/plain": [
       "   cls_promind  cls_enhind  isqtl  ispc  isrm  mid_prom    mid_enh      dist  \\\n",
       "0          605         538    1.0   0.0   0.0  714130.0   713343.5     786.5   \n",
       "1          605        1071    0.0   0.0   0.0  714130.0  1353460.0  639330.0   \n",
       "2          605        1072    0.0   0.0   0.0  714130.0  1353613.0  639483.0   \n",
       "3          605        1097    0.0   0.0   0.0  714130.0  1359380.0  645250.0   \n",
       "4          605        1409    0.0   0.0   0.0  714130.0  1519150.0  805020.0   \n",
       "\n",
       "   isnearest  isPnearest  id_enh  id_prom   mod_sim  \n",
       "0        1.0         1.0     247       15  0.013301  \n",
       "1        0.0         0.0     247       15  0.013301  \n",
       "2        0.0         0.0     247       15  0.013301  \n",
       "3        0.0         0.0     247       15  0.013301  \n",
       "4        0.0         0.0     247       15  0.013301  "
      ]
     },
     "execution_count": 19,
     "metadata": {},
     "output_type": "execute_result"
    }
   ],
   "source": [
    "# Add module for each and their similarity:\n",
    "loader.testdf = loader.testdf.merge(loader.eclsdf)\n",
    "loader.testdf = loader.testdf.merge(loader.pclsdf)\n",
    "loader.testdf = loader.testdf.merge(loader.moddf)\n",
    "loader.testdf.head()"
   ]
  },
  {
   "cell_type": "code",
   "execution_count": 20,
   "metadata": {},
   "outputs": [
    {
     "name": "stdout",
     "output_type": "stream",
     "text": [
      "Oracle: isqtl vs. pred: isMnearest\n",
      "RECALL: 4.41\n",
      "PRECISION: 3.6\n",
      "ORACLE: 1,286,065\n",
      "PRED: 1,575,412\n",
      "---------------\n",
      "Oracle: ispc vs. pred: isMnearest\n",
      "RECALL: 5.08\n",
      "PRECISION: 1.16\n",
      "ORACLE: 360,423\n",
      "PRED: 1,575,412\n",
      "---------------\n",
      "Oracle: isrm vs. pred: isMnearest\n",
      "RECALL: 9.34\n",
      "PRECISION: 2.87\n",
      "ORACLE: 484,136\n",
      "PRED: 1,575,412\n",
      "---------------\n"
     ]
    }
   ],
   "source": [
    "# See how poorly module matching does.\n",
    "mmdf = pd.DataFrame(loader.moddf.groupby(['id_enh'])['mod_sim'].max())\n",
    "mmdf.reset_index(level=0, inplace=True)\n",
    "mmdf['isMnearest'] = 1\n",
    "loader.testdf = loader.testdf.merge(mmdf, how='left')\n",
    "loader.testdf.fillna(0, inplace=True)\n",
    "print_pr(loader.testdf.isqtl, loader.testdf.isMnearest)\n",
    "print_pr(loader.testdf.ispc, loader.testdf.isMnearest)\n",
    "print_pr(loader.testdf.isrm, loader.testdf.isMnearest)"
   ]
  },
  {
   "cell_type": "code",
   "execution_count": 21,
   "metadata": {},
   "outputs": [
    {
     "name": "stdout",
     "output_type": "stream",
     "text": [
      "Oracle: isqtl vs. pred: isMmax\n",
      "RECALL: 52.57\n",
      "PRECISION: 5.31\n",
      "ORACLE: 1,286,065\n",
      "PRED: 12,730,717\n",
      "---------------\n",
      "Oracle: ispc vs. pred: isMmax\n",
      "RECALL: 56.3\n",
      "PRECISION: 1.59\n",
      "ORACLE: 360,423\n",
      "PRED: 12,730,717\n",
      "---------------\n",
      "Oracle: isrm vs. pred: isMmax\n",
      "RECALL: 55.63\n",
      "PRECISION: 2.12\n",
      "ORACLE: 484,136\n",
      "PRED: 12,730,717\n",
      "---------------\n"
     ]
    }
   ],
   "source": [
    "mmdf = pd.DataFrame(loader.testdf.groupby(['cls_enhind'])['mod_sim'].max())\n",
    "mmdf.reset_index(level=0, inplace=True)\n",
    "mmdf['isMmax'] = 1\n",
    "loader.testdf = loader.testdf.merge(mmdf, how='left')\n",
    "loader.testdf.fillna(0, inplace=True)\n",
    "print_pr(loader.testdf.isqtl, loader.testdf.isMmax)\n",
    "print_pr(loader.testdf.ispc, loader.testdf.isMmax)\n",
    "print_pr(loader.testdf.isrm, loader.testdf.isMmax)"
   ]
  },
  {
   "cell_type": "code",
   "execution_count": 22,
   "metadata": {},
   "outputs": [
    {
     "name": "stdout",
     "output_type": "stream",
     "text": [
      "1,981,566\n",
      "128,761\n",
      "1,981,566\n"
     ]
    }
   ],
   "source": [
    "elist = np.array(loader.testdf.cls_enhind)\n",
    "ee = elist[loader.testdf.isMnearest == 1]\n",
    "em = elist[loader.testdf.isMmax == 1]\n",
    "print(LLD.fmtcm(len(np.unique(elist))))\n",
    "print(LLD.fmtcm(len(np.unique(ee))))\n",
    "print(LLD.fmtcm(len(np.unique(em))))"
   ]
  },
  {
   "cell_type": "code",
   "execution_count": 23,
   "metadata": {},
   "outputs": [
    {
     "data": {
      "image/png": "[encoded data removed]",
      "text/plain": [
       "<Figure size 1296x720 with 6 Axes>"
      ]
     },
     "metadata": {
      "needs_background": "light"
     },
     "output_type": "display_data"
    }
   ],
   "source": [
    "# See how close module similarities are for QTL links vs. not:\n",
    "plt.figure(figsize=(18,10))\n",
    "gs = gridspec.GridSpec(ncols=3, nrows=2)\n",
    "plt.subplot(gs[0])\n",
    "h = plt.hist(loader.testdf.mod_sim, 20, color='grey')\n",
    "plt.xlabel('Module Jaccard Similarity')\n",
    "plt.ylabel('Number of E-P links')\n",
    "plt.title('All possible links')\n",
    "\n",
    "plt.subplot(gs[1])\n",
    "h = plt.hist(loader.testdf.mod_sim.loc[loader.testdf.isqtl==1], 20, color='grey')\n",
    "plt.xlabel('Module Jaccard Similarity')\n",
    "plt.title('QTL links')\n",
    "\n",
    "plt.subplot(gs[2])\n",
    "h = plt.hist(loader.testdf.mod_sim.loc[loader.testdf.ispc ==1], 20, color='grey')\n",
    "plt.xlabel('Module Jaccard Similarity')\n",
    "plt.title('PC-HiC links')\n",
    "\n",
    "plt.subplot(gs[3])\n",
    "h = plt.hist(loader.testdf.mod_sim.loc[loader.testdf.isnearest==1], 20, color='grey')\n",
    "plt.xlabel('Module Jaccard Similarity')\n",
    "plt.title('Nearest links')\n",
    "\n",
    "plt.subplot(gs[4])\n",
    "h = plt.hist(loader.testdf.mod_sim.loc[loader.testdf.isrm==1], 20, color='grey')\n",
    "plt.xlabel('Module Jaccard Similarity')\n",
    "plt.title('Roadmap links')\n",
    "\n",
    "plt.subplot(gs[5])\n",
    "h = plt.hist(loader.testdf.mod_sim.loc[loader.testdf.isMnearest==1], 20, color='grey')\n",
    "plt.xlabel('Module Jaccard Similarity')\n",
    "plt.title('Module links')\n",
    "plt.tight_layout()"
   ]
  },
  {
   "cell_type": "code",
   "execution_count": null,
   "metadata": {},
   "outputs": [],
   "source": []
  },
  {
   "cell_type": "markdown",
   "metadata": {},
   "source": [
    "#### Set up distance calcs:"
   ]
  },
  {
   "cell_type": "code",
   "execution_count": 24,
   "metadata": {},
   "outputs": [],
   "source": [
    "from scipy.spatial import distance\n",
    "\n",
    "# Set up matrix\n",
    "acX = loader.h1X.copy()\n",
    "acX.data = np.log2(acX.data)\n",
    "\n",
    "epX = loader.eX.multiply(acX)\n",
    "ppX = loader.pX.multiply(acX)\n",
    "\n",
    "def zscore(x):\n",
    "    mu = np.mean(x)\n",
    "    sd = np.std(x)\n",
    "    z = (x - mu)/sd\n",
    "    return(z)"
   ]
  },
  {
   "cell_type": "markdown",
   "metadata": {},
   "source": [
    "#### Verify tissue specificity for QTLs:\n",
    "- AGGREGATE TISSUE SPEC for PROMOTERS and for ENHANCERS per GTEx tissue - plot as 2 x 2 heatmaps (annotations with and without H3K27ac?)"
   ]
  },
  {
   "cell_type": "code",
   "execution_count": null,
   "metadata": {},
   "outputs": [],
   "source": [
    "# Initialize\n",
    "loader.qtltisdf = loader.qtltisdf.drop_duplicates()\n",
    "ut = np.sort(pd.unique(loader.qtltisdf.tissue))\n",
    "NU = len(ut)\n",
    "ecnt = np.zeros((acX.shape[1], NU))\n",
    "pcnt = np.zeros((acX.shape[1], NU))\n",
    "eacnt = np.zeros((acX.shape[1], NU))\n",
    "pacnt = np.zeros((acX.shape[1], NU))\n",
    "\n",
    "# Process tissues:\n",
    "for i in tqdm_notebook(range(NU)):\n",
    "    tissue = ut[i]\n",
    "    tid = np.where(loader.qtltisdf.tissue == tissue)[0]\n",
    "    eind = np.array(loader.qtltisdf.cls_enhind.iloc[tid])  # Make np array othw may index by indexes??\n",
    "    pind = np.array(loader.qtltisdf.cls_promind.iloc[tid])\n",
    "    ecnt[:,i] =  np.array(np.mean(loader.eX[eind,:], axis=0))[0].T\n",
    "    pcnt[:,i] =  np.array(np.mean(loader.pX[pind,:], axis=0))[0].T\n",
    "    eacnt[:,i] =  np.array(np.mean(epX[eind,:], axis=0))[0].T\n",
    "    pacnt[:,i] =  np.array(np.mean(ppX[pind,:], axis=0))[0].T"
   ]
  },
  {
   "cell_type": "code",
   "execution_count": null,
   "metadata": {},
   "outputs": [],
   "source": [
    "# Order the imputed tissues by frozen order:\n",
    "tord = np.array(pd.read_csv(loader.orderfile, header=None)).T[0]\n",
    "tord = [t for t in tord if t in loader.enam]\n",
    "eord = np.array([np.where(np.array(loader.enam) == n)[0][0] for n in tord])"
   ]
  },
  {
   "cell_type": "markdown",
   "metadata": {},
   "source": [
    "#### Visualize cell specificity:"
   ]
  },
  {
   "cell_type": "code",
   "execution_count": null,
   "metadata": {},
   "outputs": [],
   "source": [
    "# Do not seem to have very much specificity:\n",
    "plt.figure(figsize=(20,12))\n",
    "gs = gridspec.GridSpec(ncols=1, nrows=4)\n",
    "plt.subplot(gs[0])\n",
    "sns.heatmap(ecnt[eord,:].T, vmin=0, vmax=1, cmap='bone_r')\n",
    "# sns.heatmap(ecnt[r[:, np.newaxis], c].T, vmin=0, vmax=1, cmap='bone_r')\n",
    "plt.title('Enhancer Annotations')\n",
    "\n",
    "plt.subplot(gs[1])\n",
    "sns.heatmap(pcnt[eord, :].T, vmin=0, vmax=1, cmap='bone_r')\n",
    "# sns.heatmap(pcnt[r[:, np.newaxis], c].T, vmin=0, vmax=1, cmap='bone_r')\n",
    "plt.title('Promoter Annotations')\n",
    "\n",
    "plt.subplot(gs[2])\n",
    "sns.heatmap(eacnt[eord, :].T, vmin=0, vmax=3, cmap='bone_r')\n",
    "# sns.heatmap(eacnt[r[:, np.newaxis], c].T, vmin=0, vmax=3, cmap='bone_r')\n",
    "plt.title('Enhancer x H3K27ac')\n",
    "\n",
    "plt.subplot(gs[3])\n",
    "sns.heatmap(pacnt[eord, :].T, vmin=0, vmax=3, cmap='bone_r')\n",
    "# sns.heatmap(pacnt[r[:, np.newaxis], c].T, vmin=0, vmax=3, cmap='bone_r')\n",
    "plt.title('Promoter x H3K27ac')\n",
    "plt.tight_layout()"
   ]
  },
  {
   "cell_type": "code",
   "execution_count": null,
   "metadata": {},
   "outputs": [],
   "source": [
    "tp = loader.eclsdf.merge(loader.qtltisdf)"
   ]
  },
  {
   "cell_type": "code",
   "execution_count": null,
   "metadata": {},
   "outputs": [],
   "source": [
    "tp = loader.eclsdf.merge(loader.qtltisdf)\n",
    "tp = tp[['tissue', 'id_enh']]\n",
    "tp['id'] = 1\n",
    "tpc = tp.groupby(['tissue','id_enh'])['id'].sum()\n",
    "tpc = pd.DataFrame(tpc)\n",
    "tpc.reset_index(level=0, inplace=True)"
   ]
  },
  {
   "cell_type": "code",
   "execution_count": null,
   "metadata": {},
   "outputs": [],
   "source": [
    "pvt = tpc.pivot(columns='tissue')\n",
    "pvt[np.isnan(pvt)] = 0"
   ]
  },
  {
   "cell_type": "code",
   "execution_count": null,
   "metadata": {},
   "outputs": [],
   "source": [
    "mat = np.array(pvt)\n",
    "mat = mat / np.sum(mat, 0)\n",
    "mat = mat / np.sum(mat, 1)[:, np.newaxis]"
   ]
  },
  {
   "cell_type": "code",
   "execution_count": null,
   "metadata": {},
   "outputs": [],
   "source": [
    "sns.heatmap(mat)"
   ]
  },
  {
   "cell_type": "code",
   "execution_count": null,
   "metadata": {},
   "outputs": [],
   "source": [
    "cfile = loader.datadir + '/cls_merge2_wH3K27ac100_300_assignments_PROM_052819_centers.tsv.gz'\n",
    "mat = np.array(pd.read_csv(cfile, sep=\"\\t\", header=None))\n",
    "np.sum(np.abs(np.mean(mat - loader.pcent)))"
   ]
  },
  {
   "cell_type": "markdown",
   "metadata": {},
   "source": [
    "#### Calculate distance/similarities between elements:"
   ]
  },
  {
   "cell_type": "code",
   "execution_count": null,
   "metadata": {},
   "outputs": [],
   "source": [
    "# Set up iterable:\n",
    "pinds = pd.unique(loader.testdf.cls_promind)\n",
    "NP = len(pinds)\n",
    "NC = len(loader.testdf)\n",
    "\n",
    "fcd = np.zeros(NC)\n",
    "fcz = np.zeros(NC)\n",
    "fjd = np.zeros(NC)\n",
    "fjz = np.zeros(NC)\n",
    "\n",
    "# NOTE: Reduced range for testing:\n",
    "for i in tqdm_notebook(range(int(NP / 5))):\n",
    "    pid = pinds[i]\n",
    "    wp = loader.testdf.cls_promind == pid\n",
    "    subeid = loader.testdf.cls_enhind[wp]\n",
    "\n",
    "    # Get matrices:\n",
    "    ex = epX[subeid,:].toarray()\n",
    "    px = ppX[pid,:].toarray()\n",
    "\n",
    "    # Get corr and jaccard:\n",
    "    cd = 1 - distance.cdist(ex, px, metric='correlation').T[0]\n",
    "    jd = 1 - distance.cdist(ex > 0.5, px > 0.5, metric='jaccard').T[0]\n",
    "    cz = zscore(cd)\n",
    "    jz = zscore(jd)\n",
    "\n",
    "    # Save:\n",
    "    fcd[wp] = cd\n",
    "    fcz[wp] = cz\n",
    "    fjd[wp] = jd\n",
    "    fjz[wp] = jz"
   ]
  },
  {
   "cell_type": "code",
   "execution_count": null,
   "metadata": {},
   "outputs": [],
   "source": [
    "loader.testdf['corr'] = fcd\n",
    "loader.testdf['cz'] = fcz\n",
    "loader.testdf['jacc'] = fjd\n",
    "loader.testdf['jz'] = fjz"
   ]
  },
  {
   "cell_type": "code",
   "execution_count": null,
   "metadata": {},
   "outputs": [],
   "source": [
    "# See how close module similarities are for QTL links vs. not:\n",
    "def plot_hist_covariate(covariate, covname, df, nbin=20):\n",
    "    plt.figure(figsize=(20,3))\n",
    "    gs = gridspec.GridSpec(ncols=5, nrows=1)\n",
    "    plt.subplot(gs[0])\n",
    "    h = plt.hist(covariate, nbin, color='grey')\n",
    "    plt.xlim(np.min(covariate), np.max(covariate))\n",
    "    plt.xlabel(covname)\n",
    "    plt.ylabel('Number of E-P links')\n",
    "    plt.title('All possible links')\n",
    "\n",
    "    plt.subplot(gs[1])\n",
    "    h = plt.hist(covariate.loc[df.isqtl==1], nbin, color='grey')\n",
    "    plt.xlim(np.min(covariate), np.max(covariate))\n",
    "    plt.xlabel(covname)\n",
    "    plt.title('QTL links')\n",
    "\n",
    "    plt.subplot(gs[2])\n",
    "    h = plt.hist(covariate.loc[df.ispc ==1], nbin, color='grey')\n",
    "    plt.xlim(np.min(covariate), np.max(covariate))\n",
    "    plt.xlabel(covname)\n",
    "    plt.title('PCHiC links')\n",
    "    \n",
    "    plt.subplot(gs[3])\n",
    "    h = plt.hist(covariate.loc[df.isrm == 1], nbin, color='grey')\n",
    "    plt.xlim(np.min(covariate), np.max(covariate))\n",
    "    plt.xlabel(covname)\n",
    "    plt.title('Roadmap links')\n",
    "    \n",
    "    plt.subplot(gs[4])\n",
    "    h = plt.hist(covariate.loc[df.isMnearest == 1], nbin, color='grey')\n",
    "    plt.xlim(np.min(covariate), np.max(covariate))\n",
    "    plt.xlabel(covname)\n",
    "    plt.title('Module-matching links')\n",
    "    plt.tight_layout()"
   ]
  },
  {
   "cell_type": "code",
   "execution_count": null,
   "metadata": {},
   "outputs": [],
   "source": [
    "kind = np.where(fcz != 0)[0]\n",
    "plot_hist_covariate(loader.testdf['corr'].iloc[kind], 'Enh-Prom 27ac Correlation', loader.testdf.iloc[kind], 25)\n",
    "plot_hist_covariate(loader.testdf['jacc'].iloc[kind], 'Enh-Prom 27ac Jaccard', loader.testdf.iloc[kind], 25)\n",
    "plot_hist_covariate(loader.testdf['cz'].iloc[kind], 'Enh-Prom 27ac Z-corr', loader.testdf.iloc[kind], 25)"
   ]
  },
  {
   "cell_type": "code",
   "execution_count": null,
   "metadata": {},
   "outputs": [],
   "source": [
    "out = loader.testdf.merge(loader.coordf, left_on=\"cls_promind\", right_on=\"cls\")\n",
    "out = out.merge(loader.coordf, left_on='cls_enhind',right_on='cls', suffixes=(\"_p\",\"_e\"))\n",
    "out['dist_ep'] = out.mid_p - out.mid_e"
   ]
  },
  {
   "cell_type": "code",
   "execution_count": null,
   "metadata": {},
   "outputs": [],
   "source": [
    "def plot_distance_distr(covar, out):\n",
    "    if covar is None:\n",
    "        dist = out.dist_ep\n",
    "    else:\n",
    "        dist = out.dist_ep.loc[covar == 1]\n",
    "    h = plt.hist(dist, 40, color='grey')\n",
    "    plt.xlabel('P-E Distance (bp)')\n",
    "    plt.ylabel('Number of links')\n",
    "\n",
    "plt.figure(figsize=(18,10))\n",
    "gs = gridspec.GridSpec(ncols=2, nrows=3)\n",
    "plt.subplot(gs[0])\n",
    "plot_distance_distr(None, out)\n",
    "plt.title('All possible links')\n",
    "\n",
    "plt.subplot(gs[1])\n",
    "plot_distance_distr(out.isqtl, out)\n",
    "plt.title('QTL Links')\n",
    "\n",
    "plt.subplot(gs[2])\n",
    "plot_distance_distr(out.ispc, out)\n",
    "plt.title('PC-HiC Links')\n",
    "\n",
    "plt.subplot(gs[3])\n",
    "plot_distance_distr(out.isrm, out)\n",
    "plt.title('Roadmap Links')\n",
    "\n",
    "plt.subplot(gs[4])\n",
    "plot_distance_distr(out.isMnearest, out)\n",
    "plt.title('Module Links')\n",
    "\n",
    "plt.subplot(gs[5])\n",
    "plot_distance_distr(out.isnearest, out)\n",
    "plt.title('Nearest Links')\n",
    "\n",
    "plt.tight_layout()"
   ]
  },
  {
   "cell_type": "code",
   "execution_count": null,
   "metadata": {},
   "outputs": [],
   "source": [
    "# Mix of mnearest and nearest:\n",
    "ismn = out.isMnearest * out.isnearest\n",
    "print_pr(out.isqtl, ismn)\n",
    "print_pr(out.ispc, ismn)\n",
    "print_pr(out.isrm, ismn)"
   ]
  },
  {
   "cell_type": "code",
   "execution_count": null,
   "metadata": {},
   "outputs": [],
   "source": [
    "plot_distance_distr(ismn, out)"
   ]
  },
  {
   "cell_type": "code",
   "execution_count": null,
   "metadata": {},
   "outputs": [],
   "source": []
  },
  {
   "cell_type": "code",
   "execution_count": null,
   "metadata": {},
   "outputs": [],
   "source": [
    "# See if margins agree or not - const.:\n",
    "loader.testdf = loader.testdf.merge(loader.coordf.loc[:, ['cls', 'emarg']], left_on='cls_enhind', right_on='cls')\n",
    "loader.testdf = loader.testdf.merge(loader.coordf.loc[:, ['cls', 'pmarg']], left_on='cls_promind', right_on='cls')"
   ]
  },
  {
   "cell_type": "code",
   "execution_count": null,
   "metadata": {},
   "outputs": [],
   "source": [
    "loader.testdf.head()"
   ]
  },
  {
   "cell_type": "code",
   "execution_count": null,
   "metadata": {},
   "outputs": [],
   "source": [
    "print('ALL', round(np.corrcoef(loader.testdf.emarg, loader.testdf.pmarg)[0,1], 5))\n",
    "ind = loader.testdf.ispc == 1\n",
    "print('PCH', round(np.corrcoef(loader.testdf.emarg[ind], loader.testdf.pmarg[ind])[0,1],5))\n",
    "ind = loader.testdf.isqtl == 1\n",
    "print('QTL',round(np.corrcoef(loader.testdf.emarg[ind], loader.testdf.pmarg[ind])[0,1], 5))\n",
    "ind = loader.testdf.isMnearest == 1\n",
    "print('MOD', round(np.corrcoef(loader.testdf.emarg[ind], loader.testdf.pmarg[ind])[0,1], 5))\n",
    "ind = loader.testdf.isnearest == 1\n",
    "print('NEAR', round(np.corrcoef(loader.testdf.emarg[ind], loader.testdf.pmarg[ind])[0,1], 5))"
   ]
  },
  {
   "cell_type": "code",
   "execution_count": null,
   "metadata": {},
   "outputs": [],
   "source": [
    "m = np.array(loader.testdf.loc[loader.testdf.isMnearest == 1, ['mod_sim']])\n",
    "plt.figure(figsize=(12,4))\n",
    "h = plt.hist(m, 100)"
   ]
  },
  {
   "cell_type": "code",
   "execution_count": null,
   "metadata": {},
   "outputs": [],
   "source": [
    "u, c = np.unique(m, return_counts=True)"
   ]
  },
  {
   "cell_type": "code",
   "execution_count": null,
   "metadata": {},
   "outputs": [],
   "source": [
    "redtest = loader.testdf.loc[loader.testdf['cz'] != 0, :]"
   ]
  },
  {
   "cell_type": "code",
   "execution_count": null,
   "metadata": {},
   "outputs": [],
   "source": [
    "# All with |z_corr| > 2\n",
    "iscz = np.abs(redtest['cz']) > 1\n",
    "# Maybe there is an indexing issue...\n",
    "print_pr(redtest.isqtl, iscz)\n",
    "print_pr(redtest.ispc, iscz)\n",
    "print_pr(redtest.isrm, iscz)"
   ]
  },
  {
   "cell_type": "code",
   "execution_count": null,
   "metadata": {},
   "outputs": [],
   "source": [
    "isj = np.abs(redtest['jacc']) > 0.1\n",
    "print_pr(redtest.isqtl, isj)\n",
    "print_pr(redtest.ispc, isj)\n",
    "print_pr(redtest.isrm, isj) # Much better than avg"
   ]
  },
  {
   "cell_type": "markdown",
   "metadata": {},
   "source": [
    "### [M3] Link each enhancer to its nearest gene within |cz| > 1: "
   ]
  },
  {
   "cell_type": "code",
   "execution_count": null,
   "metadata": {},
   "outputs": [],
   "source": [
    "# Get distance for each and select by enhancer:\n",
    "emindf = pd.DataFrame(redtest.groupby('cls_enhind')['dist'].min())\n",
    "emindf.reset_index(level=0, inplace=True)\n",
    "emindf['isRnearest'] = 1\n",
    "redtest = redtest.merge(emindf, how='left')\n",
    "redtest.fillna(0, inplace=True)"
   ]
  },
  {
   "cell_type": "code",
   "execution_count": null,
   "metadata": {},
   "outputs": [],
   "source": [
    "print_pr(redtest.isqtl, redtest.isnearest)\n",
    "print_pr(redtest.ispc, redtest.isnearest)\n",
    "print_pr(redtest.isrm, redtest.isnearest)"
   ]
  },
  {
   "cell_type": "code",
   "execution_count": null,
   "metadata": {},
   "outputs": [],
   "source": [
    "isj = np.abs(redtest['jacc']) > 0.1\n",
    "isc = np.abs(redtest['cz']) > 0.5\n",
    "\n",
    "print_pr(redtest.isqtl, np.array(redtest.isnearest * isc))\n",
    "print_pr(redtest.ispc, np.array(redtest.isnearest * isc))\n",
    "print_pr(redtest.isrm, np.array(redtest.isnearest * isc))"
   ]
  },
  {
   "cell_type": "code",
   "execution_count": null,
   "metadata": {},
   "outputs": [],
   "source": [
    "emp = d[redtest.isqtl == 1]\n",
    "u, c = np.unique(emp, return_counts=True)\n",
    "frac = c / np.sum(c)\n",
    "\n",
    "d = np.array(redtest.dist)\n",
    "d = (d / 10000).astype(int)\n",
    "fd = frac[d]"
   ]
  },
  {
   "cell_type": "code",
   "execution_count": null,
   "metadata": {},
   "outputs": [],
   "source": [
    "thresh = 0.03\n",
    "isc = np.abs(redtest['cz']) > 0.5\n",
    "iscd = np.array(isc * fd > thresh)\n",
    "\n",
    "print_pr(redtest.isqtl, iscd)\n",
    "print_pr(redtest.ispc, iscd)\n",
    "print_pr(redtest.isrm, iscd)"
   ]
  },
  {
   "cell_type": "code",
   "execution_count": null,
   "metadata": {},
   "outputs": [],
   "source": [
    "thresh = 0.04\n",
    "iscd = np.array(redtest.cz * fd > thresh)\n",
    "\n",
    "print_pr(redtest.isqtl, iscd)\n",
    "print_pr(redtest.ispc, iscd)\n",
    "print_pr(redtest.isrm, iscd)"
   ]
  },
  {
   "cell_type": "code",
   "execution_count": null,
   "metadata": {},
   "outputs": [],
   "source": [
    "# For links:\n",
    "def plot_pr(oracle, pred, seq):\n",
    "    if hasattr(oracle, 'name') and hasattr(pred, 'name'):\n",
    "        print(\"Oracle: \" + oracle.name + \" vs. pred: \" + pred.name)\n",
    "    r = []\n",
    "    p = []\n",
    "    for t in seq:\n",
    "        pt = pred >= t\n",
    "        r.append(np.sum(pt * oracle) / np.sum(oracle))\n",
    "        p.append(np.sum(pt * oracle) / np.sum(pt))\n",
    "    plt.plot(r,p)\n",
    "    plt.xlim(0,1)\n",
    "    plt.ylim(0,1)\n",
    "    plt.xlabel('RECALL')\n",
    "    plt.ylabel('PRECISION')\n",
    "    return(r, p)"
   ]
  },
  {
   "cell_type": "code",
   "execution_count": null,
   "metadata": {},
   "outputs": [],
   "source": [
    "plt.figure(figsize=(18,6))\n",
    "gs = gridspec.GridSpec(ncols=3, nrows=1)\n",
    "plt.subplot(gs[0])\n",
    "pcd = np.array(redtest.cz * fd)\n",
    "#plt.figure(figsize=(6,6))\n",
    "nbin = 40\n",
    "r, p = plot_pr(redtest.isqtl, pcd, np.arange(0, max(pcd), max(pcd) / nbin))\n",
    "r, p = plot_pr(redtest.ispc, pcd, np.arange(0, max(pcd), max(pcd) / nbin))\n",
    "r, p = plot_pr(redtest.isrm, pcd, np.arange(0, max(pcd), max(pcd) / nbin))\n",
    "plt.title('E-P Correlation x distance penalty')\n",
    "\n",
    "plt.subplot(gs[1])\n",
    "pcd = np.array(redtest.mod_sim * fd)\n",
    "#plt.figure(figsize=(6,6))\n",
    "r, p = plot_pr(redtest.isqtl, pcd, np.arange(0, max(pcd), max(pcd) / 20))\n",
    "r, p = plot_pr(redtest.ispc, pcd, np.arange(0, max(pcd), max(pcd) / 20))\n",
    "r, p = plot_pr(redtest.isrm, pcd, np.arange(0, max(pcd), max(pcd) / 20))\n",
    "plt.title('Module similarity x distance penalty')\n",
    "\n",
    "plt.subplot(gs[2])\n",
    "pcd = np.array(redtest.isMmax * fd)\n",
    "#plt.figure(figsize=(6,6))\n",
    "r, p = plot_pr(redtest.isqtl, pcd, np.arange(0, max(pcd), max(pcd) / 20))\n",
    "r, p = plot_pr(redtest.ispc, pcd, np.arange(0, max(pcd), max(pcd) / 20))\n",
    "r, p = plot_pr(redtest.isrm, pcd, np.arange(0, max(pcd), max(pcd) / 20))\n",
    "plt.title('Maximal module x distance penalty')"
   ]
  },
  {
   "cell_type": "markdown",
   "metadata": {},
   "source": [
    "### Check promoter-tss assignments: that marker genes have the correct specificity"
   ]
  },
  {
   "cell_type": "code",
   "execution_count": null,
   "metadata": {},
   "outputs": [],
   "source": [
    "# For example, immune genes:\n",
    "igdf = pd.read_csv(loader.datadir + '/immune_gogenes.txt', header=None)\n",
    "igdf.columns = ['Gene']\n",
    "tmtmp = loader.tmdf.merge(loader.tssdf.loc[:, ['GeneID', 'Gene']])\n",
    "icls = np.array(tmtmp.merge(igdf).cls)\n",
    "\n",
    "pmat = loader.pX[icls,:].toarray()\n",
    "reord, r, c = AUX.reorder_by_linkage(pmat)\n",
    "pmat = pmat[r, :]\n",
    "\n",
    "emat = loader.eX[icls,:].toarray()[r, :]\n",
    "hmat = np.log2(loader.h1X[icls,:].toarray()[r, :] + 1)\n",
    "h2mat = np.log2(loader.h2X[icls,:].toarray()[r, :] + 1)\n",
    "h3mat = np.log2(loader.h3X[icls,:].toarray()[r, :] + 1)\n",
    "\n",
    "repg = np.array(tmtmp.merge(igdf).Gene)\n",
    "print(LLD.fmtcm(len(repg)) + ' vs ' + LLD.fmtcm(len(np.unique(repg))))"
   ]
  },
  {
   "cell_type": "code",
   "execution_count": null,
   "metadata": {},
   "outputs": [],
   "source": [
    "plt.figure(figsize=(18,18))\n",
    "gs = gridspec.GridSpec(ncols=1, nrows=5)\n",
    "cellord = c\n",
    "plt.subplot(gs[0])\n",
    "sns.heatmap(pmat[:, cellord].T, cmap='viridis')\n",
    "\n",
    "plt.subplot(gs[1])\n",
    "sns.heatmap(emat[:, cellord].T, cmap='viridis')\n",
    "\n",
    "plt.subplot(gs[2])\n",
    "sns.heatmap(hmat[:, cellord].T > 0, cmap='viridis')\n",
    "plt.title('H3K27ac')\n",
    "\n",
    "plt.subplot(gs[3])\n",
    "sns.heatmap(h2mat[:, cellord].T > 0, cmap='viridis')\n",
    "plt.title('H3K4me1')\n",
    "\n",
    "plt.subplot(gs[4])\n",
    "sns.heatmap(h3mat[:, cellord].T > 0, cmap='viridis')\n",
    "plt.title('H3K4me3')\n",
    "plt.tight_layout()"
   ]
  },
  {
   "cell_type": "code",
   "execution_count": null,
   "metadata": {},
   "outputs": [],
   "source": []
  },
  {
   "cell_type": "markdown",
   "metadata": {},
   "source": [
    "#### Check promoter-tss assignments - visualize all TSS assigned elements:"
   ]
  },
  {
   "cell_type": "code",
   "execution_count": null,
   "metadata": {},
   "outputs": [],
   "source": [
    "# Get all TSS locations\n",
    "icls = loader.tmdf.cls \n",
    "\n",
    "pmat = loader.pX[icls,:].toarray()\n",
    "reord, r, c = AUX.reorder_by_linkage(pmat)\n",
    "pmat = pmat[r, :]\n",
    "\n",
    "emat = loader.eX[icls,:].toarray()[r, :]\n",
    "hmat = np.log2(loader.h1X[icls,:].toarray()[r, :] + 1)\n",
    "h2mat = np.log2(loader.h2X[icls,:].toarray()[r, :] + 1)\n",
    "h3mat = np.log2(loader.h3X[icls,:].toarray()[r, :] + 1)"
   ]
  },
  {
   "cell_type": "code",
   "execution_count": null,
   "metadata": {},
   "outputs": [],
   "source": [
    "plt.figure(figsize=(20,12))\n",
    "gs = gridspec.GridSpec(ncols=2, nrows=3)\n",
    "cellord = c\n",
    "plt.subplot(gs[0])\n",
    "sns.heatmap(pmat[:, cellord].T, cmap='viridis')\n",
    "plt.title('Promoter Annotation')\n",
    "plt.ylabel('Tissues')\n",
    "\n",
    "plt.subplot(gs[1])\n",
    "sns.heatmap(emat[:, cellord].T, cmap='viridis')\n",
    "plt.title('Enhancer Annotation')\n",
    "\n",
    "plt.subplot(gs[2])\n",
    "sns.heatmap(hmat[:, cellord].T > 0, cmap='viridis')\n",
    "plt.title('H3K27ac')\n",
    "plt.ylabel('Tissues')\n",
    "\n",
    "plt.subplot(gs[3])\n",
    "sns.heatmap(h2mat[:, cellord].T > 0, cmap='viridis')\n",
    "plt.title('H3K4me1')\n",
    "\n",
    "plt.subplot(gs[4])\n",
    "sns.heatmap(h3mat[:, cellord].T > 0, cmap='viridis')\n",
    "plt.title('H3K4me3')\n",
    "plt.xlabel('Gene TSSes')\n",
    "plt.ylabel('Tissues')\n",
    "\n",
    "plt.subplot(gs[5])\n",
    "omat = np.multiply(pmat, hmat > 0)\n",
    "sns.heatmap(omat[:, cellord].T, cmap='viridis')\n",
    "plt.title('Promoters x H3K27ac')\n",
    "plt.xlabel('Gene TSSes')\n",
    "plt.tight_layout()"
   ]
  },
  {
   "cell_type": "code",
   "execution_count": null,
   "metadata": {},
   "outputs": [],
   "source": [
    "# Compare marginal against marginal for promind, against all prommarg (with at least 1:)\n",
    "plt.figure(figsize=(20,3.5))\n",
    "gs = gridspec.GridSpec(ncols=3, nrows=1)\n",
    "plt.subplot(gs[0])\n",
    "h = plt.hist(np.sum(pmat,1),20)\n",
    "plt.title('TSS Promoters')\n",
    "plt.ylabel('Number of promoters')\n",
    "plt.xlabel('Number of epigenomes labeled promoter')\n",
    "\n",
    "plt.subplot(gs[1])\n",
    "h = plt.hist(loader.full_pmarg[loader.promind], 20)\n",
    "plt.title('All Promoters')\n",
    "plt.xlabel('Number of epigenomes labeled promoter')\n",
    "\n",
    "pm = np.array(loader.full_pmarg)\n",
    "pm = pm[pm > 0]\n",
    "\n",
    "plt.subplot(gs[2])\n",
    "h = plt.hist(pm, 20)\n",
    "plt.title('All DHS with at least one promoter annotation')\n",
    "plt.xlabel('Number of epigenomes labeled promoter')\n",
    "plt.tight_layout()"
   ]
  },
  {
   "cell_type": "markdown",
   "metadata": {},
   "source": [
    "### Element - TSS overlaps:"
   ]
  },
  {
   "cell_type": "code",
   "execution_count": null,
   "metadata": {},
   "outputs": [],
   "source": [
    "loader.tmdf.head()"
   ]
  },
  {
   "cell_type": "code",
   "execution_count": null,
   "metadata": {},
   "outputs": [],
   "source": [
    "# Of 20059 genes, \n",
    "ng = len(pd.unique(loader.tmdf.GeneID)) \n",
    "print(LLD.fmtcm(ng), LLD.fmtcm(20059))\n",
    "print(round(100 * ng /20059, 2))"
   ]
  },
  {
   "cell_type": "code",
   "execution_count": null,
   "metadata": {},
   "outputs": [],
   "source": [
    "len(loader.promind)"
   ]
  },
  {
   "cell_type": "code",
   "execution_count": null,
   "metadata": {},
   "outputs": [],
   "source": [
    "18292 / 20059"
   ]
  },
  {
   "cell_type": "code",
   "execution_count": null,
   "metadata": {},
   "outputs": [],
   "source": [
    "tssn = pd.unique(loader.tmdf.name)"
   ]
  },
  {
   "cell_type": "code",
   "execution_count": null,
   "metadata": {},
   "outputs": [],
   "source": [
    "tssn = loader.tmdf.loc[:, ['GeneID', 'name']].merge(loader.promcoord.loc[:, ['cls', 'name']])"
   ]
  },
  {
   "cell_type": "code",
   "execution_count": null,
   "metadata": {},
   "outputs": [],
   "source": [
    "len(pd.unique(tssn.name))"
   ]
  },
  {
   "cell_type": "code",
   "execution_count": null,
   "metadata": {},
   "outputs": [],
   "source": [
    "ovdf = pd.read_csv(loader.anndir + '/txtss_elem.txt', header=None)\n",
    "ovdf.columns=['name']\n",
    "print(len(ovdf))\n",
    "print(len(ovdf.merge(loader.promcoord)))"
   ]
  },
  {
   "cell_type": "code",
   "execution_count": null,
   "metadata": {},
   "outputs": [],
   "source": [
    "ovtmp = ovdf.merge(loader.coordf)"
   ]
  },
  {
   "cell_type": "code",
   "execution_count": null,
   "metadata": {},
   "outputs": [],
   "source": [
    "h = plt.hist(ovtmp.pmarg)\n",
    "round(sum(ovtmp.pmarg == 0) / len(ovtmp), 2)"
   ]
  },
  {
   "cell_type": "code",
   "execution_count": null,
   "metadata": {},
   "outputs": [],
   "source": [
    "h = plt.hist(ovtmp.emarg)\n",
    "round(sum(ovtmp.emarg == 0) / len(ovtmp), 2)"
   ]
  },
  {
   "cell_type": "code",
   "execution_count": null,
   "metadata": {},
   "outputs": [],
   "source": [
    "26834 / 204103"
   ]
  },
  {
   "cell_type": "code",
   "execution_count": null,
   "metadata": {},
   "outputs": [],
   "source": []
  },
  {
   "cell_type": "code",
   "execution_count": null,
   "metadata": {},
   "outputs": [],
   "source": [
    "[n for n in tssn if n in pd.unique(loader.promcoord.name)]"
   ]
  },
  {
   "cell_type": "code",
   "execution_count": null,
   "metadata": {},
   "outputs": [],
   "source": []
  },
  {
   "cell_type": "markdown",
   "metadata": {},
   "source": [
    "### [M3] Modules: link each enhancer to its nearest gene within corr > 0.7:"
   ]
  },
  {
   "cell_type": "code",
   "execution_count": null,
   "metadata": {},
   "outputs": [],
   "source": [
    "def sim_xy(subX, subY):\n",
    "    itr = subY.T.dot(subX * 1.0)\n",
    "    csX = np.array(np.sum(subX, axis=0))\n",
    "    csY = np.array(np.sum(subY, axis=0))\n",
    "    un = csX + csY - itr\n",
    "    sim = itr / un\n",
    "    return(sim)"
   ]
  },
  {
   "cell_type": "code",
   "execution_count": null,
   "metadata": {},
   "outputs": [],
   "source": [
    "# Test methods:\n",
    "i = 250\n",
    "subdf = loader.testdf.loc[loader.testdf.promind == i,:]\n",
    "pid = pd.unique(subdf.cls_promind)\n",
    "\n",
    "subeid= pd.unique(subdf.cls_enhind)\n",
    "subY = loader.pX[pid,:].toarray()[0].T\n",
    "subX = loader.eX[subeid,:].toarray().T\n",
    "print(sum(subY))\n",
    "\n",
    "h3Y = loader.pX[pid,:].toarray()[0].T\n",
    "h1X = loader.eX[subeid,:].toarray().T\n",
    "\n",
    "sim = sim_xy(subX, subY)\n",
    "\n",
    "plt.figure(figsize=(12,12))\n",
    "gs = gridspec.GridSpec(ncols=1, nrows=2)\n",
    "plt.subplot(gs[0])\n",
    "plt.plot(sim)\n",
    "\n",
    "plt.subplot(gs[1])\n",
    "sns.heatmap(subX, cmap='bone_r')"
   ]
  },
  {
   "cell_type": "code",
   "execution_count": null,
   "metadata": {},
   "outputs": [],
   "source": [
    "hY = np.log2(loader.h3X[pid,:].toarray()[0].T + 1)\n",
    "hY = np.log2(loader.h1X[pid,:].toarray()[0].T + 1)\n",
    "hX = np.log2(loader.h1X[subeid,:].toarray().T + 1)\n",
    "plt.plot(hX.T.dot(hY))"
   ]
  },
  {
   "cell_type": "code",
   "execution_count": null,
   "metadata": {},
   "outputs": [],
   "source": [
    "np.corrcoef(hX)"
   ]
  },
  {
   "cell_type": "code",
   "execution_count": null,
   "metadata": {
    "scrolled": false
   },
   "outputs": [],
   "source": [
    "plt.plot(np.sort(hY), '.')"
   ]
  },
  {
   "cell_type": "markdown",
   "metadata": {},
   "source": [
    "### Match the clusters:"
   ]
  },
  {
   "cell_type": "code",
   "execution_count": null,
   "metadata": {},
   "outputs": [],
   "source": [
    "simreord, r, c= AUX.reorder_by_linkage(loader.simep, metric='euclidean')\n",
    "plt.figure(figsize=(15,10))\n",
    "sns.heatmap(1 - simreord, cmap='bone_r')"
   ]
  },
  {
   "cell_type": "code",
   "execution_count": null,
   "metadata": {},
   "outputs": [],
   "source": [
    "creord, rmerge, epiorder = AUX.reorder_by_linkage(np.concatenate([loader.ecent.T, loader.pcent.T]))\n",
    "# Plot:\n",
    "plt.figure(figsize=(15,10))\n",
    "gs = gridspec.GridSpec(ncols=2, nrows=1)\n",
    "plt.subplot(gs[0])\n",
    "sns.heatmap(loader.ecent[epiorder[:, np.newaxis],r], cmap='bone_r', cbar=False)\n",
    "plt.title('Enhancer Centers')\n",
    "plt.xlabel('Cluster')\n",
    "plt.ylabel('Epigenome')\n",
    "plt.subplot(gs[1])\n",
    "sns.heatmap(loader.pcent[epiorder[:, np.newaxis],c], cmap='bone_r', cbar=False)\n",
    "plt.title('Promoter Centers')\n",
    "plt.xlabel('Cluster')"
   ]
  },
  {
   "cell_type": "code",
   "execution_count": null,
   "metadata": {},
   "outputs": [],
   "source": [
    "## Get GTEx eQTLs - validation/training data\n",
    "# loader.load_GTEx_eQTLs()\n",
    "# loader.qtldf.shape\n",
    "# plt.figure(figsize=(10,4))\n",
    "# h = plt.hist(loader.qtldf['tss_distance'], 50, color='darkgrey')"
   ]
  },
  {
   "cell_type": "markdown",
   "metadata": {},
   "source": [
    "### Skeleton for linking:\n",
    "1. For each gene - get best matching promoter index - within 200bp - for TSS (multiple TSS?)\n",
    "2. For each TSS - region +/- 500kb (NOTE: Possible change is model all TSS together in regression model)\n",
    "3. Indices of enhancers in region +/- 500kb\n",
    "4. Get sub-matrix of strengths of enhancers in region X_i (and promoter strengths Y_i)"
   ]
  },
  {
   "cell_type": "code",
   "execution_count": null,
   "metadata": {},
   "outputs": [],
   "source": [
    "lchr = ['chr' + n for n in loader.genedf.gene_chr]\n",
    "tol = 100\n",
    "tssgr = pr.PyRanges(chromosomes=lchr, starts=loader.genedf.TSS - tol, ends=loader.genedf.TSS + tol)\n",
    "coordgr = pr.PyRanges(chromosomes=loader.coordf.chr, starts=loader.coordf.start, ends=loader.coordf.end)\n",
    "promgr = pr.PyRanges(chromosomes=loader.promcoord.chr, starts=loader.promcoord.start, ends=loader.promcoord.end)\n",
    "enhgr = pr.PyRanges(chromosomes=loader.enhcoord.chr, starts=loader.enhcoord.start, ends=loader.enhcoord.end)\n",
    "\n",
    "cdf = loader.coordf.copy()\n",
    "cdf.columns = ['Chromosome','Start','End','Name', 'cls']\n",
    "cdf['Ind'] = list(range(len(cdf)))\n",
    "cgr = pr.PyRanges(cdf)"
   ]
  },
  {
   "cell_type": "code",
   "execution_count": null,
   "metadata": {},
   "outputs": [],
   "source": [
    "len(loader.genedf)"
   ]
  },
  {
   "cell_type": "code",
   "execution_count": null,
   "metadata": {},
   "outputs": [],
   "source": [
    "len(np.unique(loader.genedf.gene_id))"
   ]
  },
  {
   "cell_type": "code",
   "execution_count": null,
   "metadata": {},
   "outputs": [],
   "source": [
    "# GENCODE TSS for PC genes:\n",
    "gencdf = pd.read_csv(loader.anndir + '/gencode.gene.v30lift37.basic.annotation.gtf.gz', skiprows=5,header=None, sep='\\t')\n",
    "gencdf.columns = ['Chromosome','type','type2','Start','End','t1','strand','t2','info']\n",
    "isrev = gencdf.strand == '-'\n",
    "gencdf['TSS'] = isrev * gencdf.End + (-isrev) * gencdf.Start\n",
    "gencgr = pr.PyRanges(chromosomes=gencdf.Chromosome, starts=gencdf.TSS - tol, ends=gencdf.TSS + tol)\n",
    "\n",
    "gencgr"
   ]
  },
  {
   "cell_type": "code",
   "execution_count": null,
   "metadata": {},
   "outputs": [],
   "source": [
    "closeall = tssgr.nearest(coordgr, suffix=\"_Input\", strandedness=None)\n",
    "closeprom = tssgr.nearest(promgr, suffix=\"_Input\", strandedness=None)\n",
    "closeenh = tssgr.nearest(enhgr, suffix=\"_Input\", strandedness=None)"
   ]
  },
  {
   "cell_type": "code",
   "execution_count": null,
   "metadata": {},
   "outputs": [],
   "source": [
    "plt.figure(figsize=(15,4))\n",
    "gs = gridspec.GridSpec(ncols=3, nrows=1)\n",
    "plt.subplot(gs[0])\n",
    "alld = np.array(closeall.df.Distance)\n",
    "alld = alld[alld < 2000]\n",
    "h = plt.hist(alld, 20)\n",
    "plt.title('TSS against all elements')\n",
    "plt.ylabel('Number of TSS')\n",
    "plt.xlabel('Distance to nearest element')\n",
    "\n",
    "plt.subplot(gs[1])\n",
    "promd = np.array(closeprom.df.Distance)\n",
    "promd = promd[promd < 2000]\n",
    "h = plt.hist(promd, 20)\n",
    "plt.title('TSS against Promoter list')\n",
    "plt.xlabel('Distance to nearest element')\n",
    "\n",
    "plt.subplot(gs[2])\n",
    "enhd = np.array(closeenh.df.Distance)\n",
    "enhd = enhd[enhd < 2000]\n",
    "h = plt.hist(enhd, 20)\n",
    "plt.title('TSS against Enhancer list')\n",
    "plt.xlabel('Distance to nearest element')"
   ]
  },
  {
   "cell_type": "code",
   "execution_count": null,
   "metadata": {},
   "outputs": [],
   "source": [
    "closeall.df.iloc[np.argmax(closeall.df.Distance),:]"
   ]
  },
  {
   "cell_type": "code",
   "execution_count": null,
   "metadata": {},
   "outputs": [],
   "source": []
  },
  {
   "cell_type": "code",
   "execution_count": null,
   "metadata": {},
   "outputs": [],
   "source": [
    "# GENCODE TSS for PC genes:\n",
    "gencdf = pd.read_csv(loader.anndir + '/gencode.gene.v30lift37.basic.annotation.gtf.gz', skiprows=5,header=None, sep='\\t')\n",
    "gencdf.columns = ['Chromosome','type','type2','Start','End','t1','strand','t2','info']\n",
    "isrev = gencdf.strand == '-'\n",
    "gencdf['TSS'] = isrev * gencdf.End + (-isrev) * gencdf.Start\n",
    "gencgr = pr.PyRanges(chromosomes=gencdf.Chromosome, starts=gencdf.TSS - tol, ends=gencdf.TSS + tol)"
   ]
  },
  {
   "cell_type": "code",
   "execution_count": null,
   "metadata": {},
   "outputs": [],
   "source": [
    "loader.matchedprom.head()"
   ]
  },
  {
   "cell_type": "code",
   "execution_count": null,
   "metadata": {},
   "outputs": [],
   "source": [
    "# Get all TSS elements - in coordf and plot their relative enhancer/promoter amts.\n",
    "closeall = gencgr.nearest(cgr, suffix=\"_Input\", strandedness=None)\n",
    "# Indices:\n",
    "matchind = np.array(closeall.Ind)\n",
    "emat = LLD.get_data(loader.ecpref)\n",
    "pmat = LLD.get_data(loader.pcpref)\n",
    "emarg = np.sum(emat[matchind,:], axis=1)\n",
    "pmarg = np.sum(pmat[matchind,:], axis=1)"
   ]
  },
  {
   "cell_type": "code",
   "execution_count": null,
   "metadata": {},
   "outputs": [],
   "source": [
    "plt.figure(figsize=(15,4))\n",
    "gs = gridspec.GridSpec(ncols=2, nrows=1)\n",
    "plt.subplot(gs[0])\n",
    "h = plt.hist(emarg, 50)\n",
    "plt.title('TSS annotated as enhancers')\n",
    "plt.ylabel('Number of TSS')\n",
    "plt.xlabel('Number of epigenomes where TSS is enhancer')\n",
    "\n",
    "plt.subplot(gs[1])\n",
    "plt.title('TSS annotated as promoter')\n",
    "h = plt.hist(pmarg, 50)\n",
    "plt.xlabel('Number of epigenomes where TSS is promoter')"
   ]
  },
  {
   "cell_type": "code",
   "execution_count": null,
   "metadata": {},
   "outputs": [],
   "source": []
  },
  {
   "cell_type": "code",
   "execution_count": null,
   "metadata": {},
   "outputs": [],
   "source": [
    "# Get all TSS elements - in coordf and plot their relative enhancer/promoter amts.\n",
    "promgr.Ind = list(range(len(promgr)))\n",
    "closeprom = gencgr.nearest(promgr, suffix=\"_Input\", strandedness=None)\n",
    "# Indices:\n",
    "matchind = np.array(closeprom.Ind)\n",
    "emarg = np.sum(loader.eX[matchind,:], axis=1)\n",
    "pmarg = np.sum(loader.pX[matchind,:], axis=1)"
   ]
  },
  {
   "cell_type": "code",
   "execution_count": null,
   "metadata": {},
   "outputs": [],
   "source": [
    "plt.figure(figsize=(15,4))\n",
    "gs = gridspec.GridSpec(ncols=2, nrows=1)\n",
    "plt.subplot(gs[0])\n",
    "h = plt.hist(emarg, 50)\n",
    "plt.title('TSS annotated as enhancers')\n",
    "plt.ylabel('Number of TSS')\n",
    "plt.xlabel('Number of epigenomes where TSS is enhancer')\n",
    "\n",
    "plt.subplot(gs[1])\n",
    "plt.title('TSS annotated as promoter')\n",
    "h = plt.hist(pmarg, 50)\n",
    "plt.xlabel('Number of epigenomes where TSS is promoter')"
   ]
  },
  {
   "cell_type": "code",
   "execution_count": null,
   "metadata": {},
   "outputs": [],
   "source": [
    "np.sum(pmarg == 1)"
   ]
  },
  {
   "cell_type": "code",
   "execution_count": null,
   "metadata": {},
   "outputs": [],
   "source": []
  },
  {
   "cell_type": "markdown",
   "metadata": {},
   "source": [
    "#### Save data in general formats:"
   ]
  },
  {
   "cell_type": "code",
   "execution_count": 25,
   "metadata": {},
   "outputs": [
    {
     "name": "stdout",
     "output_type": "stream",
     "text": [
      "1\n"
     ]
    }
   ],
   "source": [
    "print(1)"
   ]
  },
  {
   "cell_type": "code",
   "execution_count": null,
   "metadata": {},
   "outputs": [],
   "source": [
    "# TODO: Add dyadic indices."
   ]
  },
  {
   "cell_type": "code",
   "execution_count": 26,
   "metadata": {},
   "outputs": [],
   "source": [
    "with open(loader.datadir + '/Promoter_indices.txt', 'w') as f:\n",
    "    for r in list(loader.promind):\n",
    "        f.write(str(r) + \"\\n\")"
   ]
  },
  {
   "cell_type": "code",
   "execution_count": 27,
   "metadata": {},
   "outputs": [],
   "source": [
    "with open(loader.datadir + '/Enhancer_indices.txt', 'w') as f:\n",
    "    for r in list(loader.enhind):\n",
    "        f.write(str(r) + \"\\n\")"
   ]
  },
  {
   "cell_type": "code",
   "execution_count": 31,
   "metadata": {},
   "outputs": [
    {
     "name": "stdout",
     "output_type": "stream",
     "text": [
      "207655570\n"
     ]
    },
    {
     "data": {
      "application/vnd.jupyter.widget-view+json": {
       "model_id": "",
       "version_major": 2,
       "version_minor": 0
      },
      "text/plain": [
       "HBox(children=(IntProgress(value=0, max=207655570), HTML(value='')))"
      ]
     },
     "metadata": {},
     "output_type": "display_data"
    },
    {
     "name": "stdout",
     "output_type": "stream",
     "text": [
      "\n"
     ]
    }
   ],
   "source": [
    "excoo = loader.eX.tocoo()\n",
    "print(len(excoo.data))\n",
    "\n",
    "with open(loader.datadir + '/Enhancer_matrix_062619.mtx', 'w') as f:\n",
    "    for i in tqdm_notebook(range(len(excoo.data))):\n",
    "        line = str(excoo.row[i]) + \"\\t\" + str(excoo.col[i])\n",
    "        f.write(line + \"\\n\")"
   ]
  },
  {
   "cell_type": "code",
   "execution_count": 34,
   "metadata": {},
   "outputs": [
    {
     "name": "stdout",
     "output_type": "stream",
     "text": [
      "259422930\n"
     ]
    },
    {
     "data": {
      "application/vnd.jupyter.widget-view+json": {
       "model_id": "18262f13f8424f0988faf70931c66a25",
       "version_major": 2,
       "version_minor": 0
      },
      "text/plain": [
       "HBox(children=(IntProgress(value=0, max=259422930), HTML(value='')))"
      ]
     },
     "metadata": {},
     "output_type": "display_data"
    },
    {
     "name": "stdout",
     "output_type": "stream",
     "text": [
      "\n"
     ]
    }
   ],
   "source": [
    "acoo = acX.tocoo()\n",
    "print(len(acoo.data))\n",
    "\n",
    "with open(loader.datadir + '/H3K27ac_matrix_062619.mtx', 'w') as f:\n",
    "    for i in tqdm_notebook(range(len(acoo.data))):\n",
    "        line = str(acoo.row[i]) + \"\\t\" + str(acoo.col[i]) + \"\\t\" + str(acoo.data[i])\n",
    "        f.write(line + \"\\n\")"
   ]
  },
  {
   "cell_type": "code",
   "execution_count": null,
   "metadata": {},
   "outputs": [],
   "source": [
    "ecoo = epX.tocoo()\n",
    "print(len(ecoo.data))\n",
    "\n",
    "with open(loader.datadir + '/Enhancer_H3K27ac_matrix_062619.mtx', 'w') as f:\n",
    "    for i in tqdm_notebook(range(len(ecoo.data))):\n",
    "        line = str(ecoo.row[i]) + \"\\t\" + str(ecoo.col[i])\n",
    "        f.write(line + \"\\n\")"
   ]
  },
  {
   "cell_type": "code",
   "execution_count": 37,
   "metadata": {},
   "outputs": [
    {
     "name": "stdout",
     "output_type": "stream",
     "text": [
      "139406522\n"
     ]
    },
    {
     "data": {
      "application/vnd.jupyter.widget-view+json": {
       "model_id": "d0ed821ecef74d7f924b995d637ff7dc",
       "version_major": 2,
       "version_minor": 0
      },
      "text/plain": [
       "HBox(children=(IntProgress(value=0, max=139406522), HTML(value='')))"
      ]
     },
     "metadata": {},
     "output_type": "display_data"
    },
    {
     "name": "stdout",
     "output_type": "stream",
     "text": [
      "\n"
     ]
    }
   ],
   "source": [
    "pxcoo = loader.pX.tocoo()\n",
    "print(len(pxcoo.data))\n",
    "\n",
    "with open(loader.datadir + '/Promoter_matrix_062619.mtx', 'w') as f:\n",
    "    for i in tqdm_notebook(range(len(pxcoo.data))):\n",
    "        line = str(pxcoo.row[i]) + \"\\t\" + str(pxcoo.col[i])\n",
    "        f.write(line + \"\\n\")"
   ]
  },
  {
   "cell_type": "code",
   "execution_count": 36,
   "metadata": {},
   "outputs": [
    {
     "name": "stdout",
     "output_type": "stream",
     "text": [
      "102558159\n"
     ]
    },
    {
     "data": {
      "application/vnd.jupyter.widget-view+json": {
       "model_id": "",
       "version_major": 2,
       "version_minor": 0
      },
      "text/plain": [
       "HBox(children=(IntProgress(value=0, max=102558159), HTML(value='')))"
      ]
     },
     "metadata": {},
     "output_type": "display_data"
    },
    {
     "name": "stdout",
     "output_type": "stream",
     "text": [
      "\n"
     ]
    }
   ],
   "source": [
    "pcoo = ppX.tocoo()\n",
    "print(len(pcoo.data))\n",
    "\n",
    "with open(loader.datadir + '/Promoter_H3K27ac_matrix_062619.mtx', 'w') as f:\n",
    "    for i in tqdm_notebook(range(len(pcoo.data))):\n",
    "        line = str(pcoo.row[i]) + \"\\t\" + str(pcoo.col[i])\n",
    "        f.write(line + \"\\n\")"
   ]
  },
  {
   "cell_type": "code",
   "execution_count": null,
   "metadata": {},
   "outputs": [],
   "source": [
    "with open(loader.datadir + '/Enhancer_matrix_names.txt', 'w') as f:\n",
    "    for r in list(loader.enam):\n",
    "        f.write(str(r) + \"\\n\")"
   ]
  },
  {
   "cell_type": "code",
   "execution_count": 24,
   "metadata": {},
   "outputs": [],
   "source": [
    "# Get enhancer jaccard dist:\n",
    "out = AUX.pairwise_jaccard(X=epX.T)\n",
    "sns.heatmap(out)\n",
    "np.savetxt(X=out, fname=loader.datadir + \"/Enhancer_jaccard.tsv.gz\", fmt=\"%.5e\", delimiter=\"\\t\")"
   ]
  },
  {
   "cell_type": "code",
   "execution_count": 33,
   "metadata": {},
   "outputs": [],
   "source": [
    "?np.savetxt"
   ]
  },
  {
   "cell_type": "code",
   "execution_count": null,
   "metadata": {},
   "outputs": [],
   "source": []
  },
  {
   "cell_type": "code",
   "execution_count": null,
   "metadata": {},
   "outputs": [],
   "source": []
  }
 ],
 "metadata": {
  "celltoolbar": "Raw Cell Format",
  "kernelspec": {
   "display_name": "Python 3",
   "language": "python",
   "name": "python3"
  },
  "language_info": {
   "codemirror_mode": {
    "name": "ipython",
    "version": 3
   },
   "file_extension": ".py",
   "mimetype": "text/x-python",
   "name": "python",
   "nbconvert_exporter": "python",
   "pygments_lexer": "ipython3",
   "version": "3.6.6"
  }
 },
 "nbformat": 4,
 "nbformat_minor": 2
}
